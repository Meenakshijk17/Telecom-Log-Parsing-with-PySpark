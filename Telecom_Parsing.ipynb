{
  "nbformat": 4,
  "nbformat_minor": 0,
  "metadata": {
    "colab": {
      "provenance": []
    },
    "kernelspec": {
      "name": "python3",
      "display_name": "Python 3"
    },
    "language_info": {
      "name": "python"
    }
  },
  "cells": [
    {
      "cell_type": "code",
      "execution_count": null,
      "metadata": {
        "colab": {
          "base_uri": "https://localhost:8080/"
        },
        "id": "5EElk1kvZ4Y2",
        "outputId": "06a60e95-2e97-4953-cd57-86257655bf42"
      },
      "outputs": [
        {
          "output_type": "stream",
          "name": "stdout",
          "text": [
            "Collecting pyspark\n",
            "  Downloading pyspark-3.5.1.tar.gz (317.0 MB)\n",
            "\u001b[2K     \u001b[90m━━━━━━━━━━━━━━━━━━━━━━━━━━━━━━━━━━━━━━━━\u001b[0m \u001b[32m317.0/317.0 MB\u001b[0m \u001b[31m2.2 MB/s\u001b[0m eta \u001b[36m0:00:00\u001b[0m\n",
            "\u001b[?25h  Preparing metadata (setup.py) ... \u001b[?25l\u001b[?25hdone\n",
            "Requirement already satisfied: py4j==0.10.9.7 in /usr/local/lib/python3.10/dist-packages (from pyspark) (0.10.9.7)\n",
            "Building wheels for collected packages: pyspark\n",
            "  Building wheel for pyspark (setup.py) ... \u001b[?25l\u001b[?25hdone\n",
            "  Created wheel for pyspark: filename=pyspark-3.5.1-py2.py3-none-any.whl size=317488491 sha256=46f8f76922c1ab76433a16b4176a43577bfcbd8ec8cf401dbbc57a76c465a231\n",
            "  Stored in directory: /root/.cache/pip/wheels/80/1d/60/2c256ed38dddce2fdd93be545214a63e02fbd8d74fb0b7f3a6\n",
            "Successfully built pyspark\n",
            "Installing collected packages: pyspark\n",
            "Successfully installed pyspark-3.5.1\n"
          ]
        }
      ],
      "source": [
        "!pip install pyspark"
      ]
    },
    {
      "cell_type": "code",
      "source": [
        "from pyspark.sql import SparkSession\n",
        "from pyspark.sql.functions import *"
      ],
      "metadata": {
        "id": "15DbJ6l2aGYX"
      },
      "execution_count": null,
      "outputs": []
    },
    {
      "cell_type": "code",
      "source": [
        "# creating a SparkSession\n",
        "spark = SparkSession.builder \\\n",
        "        .appName(\"TelecomLogAnalyzer\") \\\n",
        "        .getOrCreate()"
      ],
      "metadata": {
        "id": "yshu8Pd8bgcs"
      },
      "execution_count": null,
      "outputs": []
    },
    {
      "cell_type": "markdown",
      "source": [
        "# Part - 1: Without using Data Frames"
      ],
      "metadata": {
        "id": "CLaqVx7aTmLO"
      }
    },
    {
      "cell_type": "code",
      "source": [
        "# loading the text file as an RDD\n",
        "text_rdd = spark.sparkContext.textFile('access.log')\n",
        "\n",
        "# displaying the first 5 lines\n",
        "for line in text_rdd.take(5):\n",
        "    print(line)"
      ],
      "metadata": {
        "colab": {
          "base_uri": "https://localhost:8080/"
        },
        "id": "bID0ntvYTrRF",
        "outputId": "2a6371f2-5494-4ccb-8030-f1206d13e148"
      },
      "execution_count": null,
      "outputs": [
        {
          "output_type": "stream",
          "name": "stdout",
          "text": [
            "\n",
            "109.169.248.247 - - [12/Dec/2015:18:25:11 +0100] GET /administrator/ HTTP/1.1 200 4263 - Mozilla/5.0 (Windows NT 6.0; rv:34.0) Gecko/20100101 Firefox/34.0 -\n",
            "109.169.248.247 - - [12/Dec/2015:18:25:11 +0100] POST /administrator/index.php HTTP/1.1 200 4494 http://almhuette-raith.at/administrator/ Mozilla/5.0 (Windows NT 6.0; rv:34.0) Gecko/20100101 Firefox/34.0 -\n",
            "46.72.177.4 - - [12/Dec/2015:18:31:08 +0100] GET /administrator/ HTTP/1.1 200 4263 - Mozilla/5.0 (Windows NT 6.0; rv:34.0) Gecko/20100101 Firefox/34.0 -\n",
            "46.72.177.4 - - [12/Dec/2015:18:31:08 +0100] POST /administrator/index.php HTTP/1.1 200 4494 http://almhuette-raith.at/administrator/ Mozilla/5.0 (Windows NT 6.0; rv:34.0) Gecko/20100101 Firefox/34.0 -\n"
          ]
        }
      ]
    },
    {
      "cell_type": "code",
      "source": [
        "# removing the empty lines\n",
        "rdd = text_rdd.filter(lambda line: line != '')\n",
        "\n",
        "# checking the count\n",
        "rdd.count()"
      ],
      "metadata": {
        "colab": {
          "base_uri": "https://localhost:8080/"
        },
        "id": "DT_lRhEWUn7B",
        "outputId": "84c3274d-bd70-4f5a-adaf-991b93b11cd3"
      },
      "execution_count": null,
      "outputs": [
        {
          "output_type": "execute_result",
          "data": {
            "text/plain": [
              "2338006"
            ]
          },
          "metadata": {},
          "execution_count": 5
        }
      ]
    },
    {
      "cell_type": "code",
      "source": [
        "def clean_log(log_line):\n",
        "  \"\"\"\n",
        "  Function to clean a given log line\n",
        "\n",
        "  Args:: log_line: A single log line as a string\n",
        "  Returns:: (tuple): (ip_address, remote_user_identity, remote_user,\n",
        "            timestamp, http_method, requested_url,\n",
        "            http_version, http_status_code, bytes_sent,\n",
        "            url, user_agent)\n",
        "  \"\"\"\n",
        "\n",
        "  log_line_split1 = log_line.split(' ')\n",
        "\n",
        "  # identify ip_address\n",
        "  ip_address = log_line_split1[0]\n",
        "\n",
        "  # identify remote_user_identity\n",
        "  remote_user_identity = log_line_split1[1]\n",
        "\n",
        "  # identify remote_user\n",
        "  remote_user = log_line_split1[2]\n",
        "\n",
        "  # identify timestamp\n",
        "  timestamp = ' '.join([log_line_split1[3], log_line_split1[4]])[1: 27]\n",
        "\n",
        "  # identify http_method\n",
        "  if log_line_split1[5][-4:].upper() == 'POST':\n",
        "    http_method = 'POST'\n",
        "  elif log_line_split1[5][-3:].upper() == 'GET':\n",
        "    http_method = 'GET'\n",
        "  else:\n",
        "    http_method = log_line_split1[5][-8:].upper()\n",
        "\n",
        "  # identify requested_url\n",
        "  requested_url = log_line_split1[6]\n",
        "\n",
        "  log_line_split2 = log_line.split(' HTTP/')[1]\n",
        "\n",
        "  # identify http_version\n",
        "  http_version = log_line_split2[0: 3]\n",
        "\n",
        "  # identify http_status_code\n",
        "  http_status_code = log_line_split2.split(' ')[1]\n",
        "\n",
        "  # identify bytes_sent\n",
        "  bytes_sent = log_line_split2.split(' ')[2]\n",
        "\n",
        "  # identify url\n",
        "  url = log_line_split2.split(' ')[3]\n",
        "\n",
        "  # identify user_agent\n",
        "  user_agent = log_line_split1[11]\n",
        "  for i in range(12, len(log_line_split1)-1):\n",
        "    user_agent += log_line_split1[i]\n",
        "\n",
        "  fields = [ip_address, remote_user_identity, remote_user,\n",
        "            timestamp, http_method, requested_url,\n",
        "            http_version, http_status_code, bytes_sent,\n",
        "            url, user_agent]\n",
        "\n",
        "  return(fields)"
      ],
      "metadata": {
        "id": "ovOPTZLzZQtR"
      },
      "execution_count": null,
      "outputs": []
    },
    {
      "cell_type": "code",
      "source": [
        "# cleaning and parsing the rdd\n",
        "cleaned_rdd = rdd.map(lambda line: clean_log(line))\n",
        "\n",
        "# showing the contents of the cleaned RDD\n",
        "for line in cleaned_rdd.take(5):\n",
        "    print(line)"
      ],
      "metadata": {
        "colab": {
          "base_uri": "https://localhost:8080/"
        },
        "id": "xDyoC4rFX5Xx",
        "outputId": "abe8f595-943e-4a3e-edd0-0dba359f30af"
      },
      "execution_count": null,
      "outputs": [
        {
          "output_type": "stream",
          "name": "stdout",
          "text": [
            "['109.169.248.247', '-', '-', '12/Dec/2015:18:25:11 +0100', 'GET', '/administrator/', '1.1', '200', '4263', '-', 'Mozilla/5.0(WindowsNT6.0;rv:34.0)Gecko/20100101Firefox/34.0']\n",
            "['109.169.248.247', '-', '-', '12/Dec/2015:18:25:11 +0100', 'POST', '/administrator/index.php', '1.1', '200', '4494', 'http://almhuette-raith.at/administrator/', 'Mozilla/5.0(WindowsNT6.0;rv:34.0)Gecko/20100101Firefox/34.0']\n",
            "['46.72.177.4', '-', '-', '12/Dec/2015:18:31:08 +0100', 'GET', '/administrator/', '1.1', '200', '4263', '-', 'Mozilla/5.0(WindowsNT6.0;rv:34.0)Gecko/20100101Firefox/34.0']\n",
            "['46.72.177.4', '-', '-', '12/Dec/2015:18:31:08 +0100', 'POST', '/administrator/index.php', '1.1', '200', '4494', 'http://almhuette-raith.at/administrator/', 'Mozilla/5.0(WindowsNT6.0;rv:34.0)Gecko/20100101Firefox/34.0']\n",
            "['83.167.113.100', '-', '-', '12/Dec/2015:18:31:25 +0100', 'GET', '/administrator/', '1.1', '200', '4263', '-', 'Mozilla/5.0(WindowsNT6.0;rv:34.0)Gecko/20100101Firefox/34.0']\n"
          ]
        }
      ]
    },
    {
      "cell_type": "markdown",
      "source": [
        "## 3.\tFind out how many 404 HTTP codes are in access logs"
      ],
      "metadata": {
        "id": "lo3Jds9wdagr"
      }
    },
    {
      "cell_type": "code",
      "source": [
        "# filtering out the 404 HTTP codes\n",
        "url404 = cleaned_rdd.filter(lambda line: line[7]=='404')\n",
        "\n",
        "# displaying a few\n",
        "for line in url404.take(5):\n",
        "    print(line)"
      ],
      "metadata": {
        "colab": {
          "base_uri": "https://localhost:8080/"
        },
        "id": "mteoQBXPddeq",
        "outputId": "16ad5750-d375-4740-b610-e252d1680946"
      },
      "execution_count": null,
      "outputs": [
        {
          "output_type": "stream",
          "name": "stdout",
          "text": [
            "['191.182.199.16', '-', '-', '12/Dec/2015:19:02:36 +0100', 'GET', '/templates/_system/css/general.css', '1.1', '404', '239', 'http://almhuette-raith.at/', 'Mozilla/5.0(WindowsNT6.1;WOW64)AppleWebKit/537.36(KHTML,likeGecko)Chrome/36.0.1985.143Safari/537.36']\n",
            "['188.45.108.168', '-', '-', '12/Dec/2015:19:44:06 +0100', 'GET', '/templates/_system/css/general.css', '1.1', '404', '239', 'http://www.almhuette-raith.at/', 'Mozilla/5.0(Linux;Android4.4.2;de-at;SAMSUNGGT-I9301IBuild/KOT49H)AppleWebKit/537.36(KHTML,likeGecko)Version/1.5Chrome/28.0.1500.94MobileSafari/537.36']\n",
            "['188.45.108.168', '-', '-', '12/Dec/2015:19:44:15 +0100', 'GET', '/favicon.ico', '1.1', '404', '217', '-', 'Mozilla/5.0(Linux;Android4.4.2;de-at;SAMSUNGGT-I9301IBuild/KOT49H)AppleWebKit/537.36(KHTML,likeGecko)Version/1.5Chrome/28.0.1500.94MobileSafari/537.36']\n",
            "['157.55.39.3', '-', '-', '13/Dec/2015:01:01:19 +0100', 'GET', '/icons/text.gif', '1.1', '404', '220', '-', 'Mozilla/5.0(compatible;bingbot/2.0;+http://www.bing.com/bingbot.htm)']\n",
            "['212.95.7.131', '-', '-', '13/Dec/2015:11:28:41 +0100', 'GET', '/templates/_system/css/general.css', '1.1', '404', '239', 'http://www.almhuette-raith.at/', 'Mozilla/5.0(iPhone;CPUiPhoneOS9_1likeMacOSX)AppleWebKit/601.1.46(KHTML,likeGecko)Version/9.0Mobile/13B143Safari/601.1']\n"
          ]
        }
      ]
    },
    {
      "cell_type": "code",
      "source": [
        "# number of 404 HTTP codes\n",
        "url404.count()"
      ],
      "metadata": {
        "colab": {
          "base_uri": "https://localhost:8080/"
        },
        "id": "hm6ZTdFzejMk",
        "outputId": "b7213391-88c0-4af6-8dbd-1e754750154c"
      },
      "execution_count": null,
      "outputs": [
        {
          "output_type": "execute_result",
          "data": {
            "text/plain": [
              "227101"
            ]
          },
          "metadata": {},
          "execution_count": 9
        }
      ]
    },
    {
      "cell_type": "markdown",
      "source": [
        "## 4.\tFind out which URLs are broken"
      ],
      "metadata": {
        "id": "Cr8ubO5jexE-"
      }
    },
    {
      "cell_type": "code",
      "source": [
        "# filtering out the broken (non-OK) URLS\n",
        "broke_urls = cleaned_rdd.filter(lambda line: line[7]!='200')\n",
        "\n",
        "# displaying a few\n",
        "for line in broke_urls.take(5):\n",
        "    print(line)"
      ],
      "metadata": {
        "colab": {
          "base_uri": "https://localhost:8080/"
        },
        "id": "mKkLM6rLe1X1",
        "outputId": "dd5b7ea5-b7e3-4be9-9b53-a565289b5d3f"
      },
      "execution_count": null,
      "outputs": [
        {
          "output_type": "stream",
          "name": "stdout",
          "text": [
            "['191.182.199.16', '-', '-', '12/Dec/2015:19:02:36 +0100', 'GET', '/templates/_system/css/general.css', '1.1', '404', '239', 'http://almhuette-raith.at/', 'Mozilla/5.0(WindowsNT6.1;WOW64)AppleWebKit/537.36(KHTML,likeGecko)Chrome/36.0.1985.143Safari/537.36']\n",
            "['188.45.108.168', '-', '-', '12/Dec/2015:19:44:06 +0100', 'GET', '/templates/_system/css/general.css', '1.1', '404', '239', 'http://www.almhuette-raith.at/', 'Mozilla/5.0(Linux;Android4.4.2;de-at;SAMSUNGGT-I9301IBuild/KOT49H)AppleWebKit/537.36(KHTML,likeGecko)Version/1.5Chrome/28.0.1500.94MobileSafari/537.36']\n",
            "['188.45.108.168', '-', '-', '12/Dec/2015:19:44:15 +0100', 'GET', '/favicon.ico', '1.1', '404', '217', '-', 'Mozilla/5.0(Linux;Android4.4.2;de-at;SAMSUNGGT-I9301IBuild/KOT49H)AppleWebKit/537.36(KHTML,likeGecko)Version/1.5Chrome/28.0.1500.94MobileSafari/537.36']\n",
            "['157.55.39.3', '-', '-', '13/Dec/2015:01:01:19 +0100', 'GET', '/icons/text.gif', '1.1', '404', '220', '-', 'Mozilla/5.0(compatible;bingbot/2.0;+http://www.bing.com/bingbot.htm)']\n",
            "['83.167.113.100', '-', '-', '13/Dec/2015:02:30:28 +0100', 'GET', '/administrator/', '1.1', '500', '88', '-', 'Mozilla/5.0(WindowsNT6.0;rv:34.0)Gecko/20100101Firefox/34.0']\n"
          ]
        }
      ]
    },
    {
      "cell_type": "code",
      "source": [
        "# number of broken URLS\n",
        "broke_urls.count()"
      ],
      "metadata": {
        "colab": {
          "base_uri": "https://localhost:8080/"
        },
        "id": "t3rS16_Ue7D4",
        "outputId": "fb55e000-dd66-409b-ea65-6f43335f8d38"
      },
      "execution_count": null,
      "outputs": [
        {
          "output_type": "execute_result",
          "data": {
            "text/plain": [
              "1180174"
            ]
          },
          "metadata": {},
          "execution_count": 11
        }
      ]
    },
    {
      "cell_type": "markdown",
      "source": [
        "## 5.\tVerify there are no null columns in the original dataset"
      ],
      "metadata": {
        "id": "ygbw1LU8fJA_"
      }
    },
    {
      "cell_type": "code",
      "source": [
        "# transposing the RDD to work with columns instead of rows\n",
        "rdd_transposed = cleaned_rdd.zipWithIndex().flatMap(lambda x: [(i, x[1]) for i in enumerate(x[0])])\n",
        "\n",
        "# checking for null values in each column\n",
        "null_columns = rdd_transposed.filter(lambda x: (x[0][1] == \"\") or (x[0][1] == \"-\")).map(lambda x: x[0][0]).distinct().collect()\n",
        "\n",
        "if null_columns:\n",
        "    print(\"Null columns found:\", null_columns)\n",
        "else:\n",
        "    print(\"No null columns found\")"
      ],
      "metadata": {
        "colab": {
          "base_uri": "https://localhost:8080/"
        },
        "id": "myOH3XINfIbG",
        "outputId": "7143b277-d25e-4557-ac74-1de7df3d8da9"
      },
      "execution_count": null,
      "outputs": [
        {
          "output_type": "stream",
          "name": "stdout",
          "text": [
            "Null columns found: [1, 2, 8, 9, 10]\n"
          ]
        }
      ]
    },
    {
      "cell_type": "markdown",
      "source": [
        "## 6.\tReplace null values with constants such as 0"
      ],
      "metadata": {
        "id": "_b-izbbZiefk"
      }
    },
    {
      "cell_type": "code",
      "source": [
        "def fill_na(row):\n",
        "  \"\"\"\n",
        "  Function to replace null/empty values with appropriate constants\n",
        "  Replaces null values in remote_user_identity(1), remote_user(2),\n",
        "  and bytes_sent(8) with 0 and those in URL(9) and user_agent(10) with \"Unknown\"\n",
        "\n",
        "  Args:: row: A single row of log fields\n",
        "  Returns:: (tuple): corrected (ip_address, remote_user_identity, remote_user,\n",
        "            timestamp, http_method, requested_url,\n",
        "            http_version, http_status_code, bytes_sent,\n",
        "            url, user_agent)\n",
        "  \"\"\"\n",
        "  new_row = []\n",
        "  for i in range(len(row)):\n",
        "    if row[i] in (\"\", \"-\"):\n",
        "      if i in (1, 2, 8):\n",
        "        new_row.append(0)\n",
        "      elif i in (9, 10):\n",
        "        new_row.append(\"Unknown\")\n",
        "    else:\n",
        "      new_row.append(row[i])\n",
        "  return(tuple(new_row))\n",
        "\n",
        "filled_rdd = cleaned_rdd.map(lambda row: fill_na(row))"
      ],
      "metadata": {
        "id": "sLk_5wmHgk3l"
      },
      "execution_count": null,
      "outputs": []
    },
    {
      "cell_type": "code",
      "source": [
        "### Checking the fill_na step\n",
        "\n",
        "# transposing the RDD to work with columns instead of rows\n",
        "rdd_transposed = filled_rdd.zipWithIndex().flatMap(lambda x: [(i, x[1]) for i in enumerate(x[0])])\n",
        "\n",
        "# checking for null values in each column\n",
        "null_columns = rdd_transposed.filter(lambda x: (x[0][1] == \"\") or (x[0][1] == \"-\")).map(lambda x: x[0][0]).distinct().collect()\n",
        "\n",
        "if null_columns:\n",
        "    print(\"Null columns found:\", null_columns)\n",
        "else:\n",
        "    print(\"No null columns found\")"
      ],
      "metadata": {
        "colab": {
          "base_uri": "https://localhost:8080/"
        },
        "id": "iO_Wtzkuh_oq",
        "outputId": "b66c1bf7-208e-4c3a-ba12-f817f04cf88f"
      },
      "execution_count": null,
      "outputs": [
        {
          "output_type": "stream",
          "name": "stdout",
          "text": [
            "No null columns found\n"
          ]
        }
      ]
    },
    {
      "cell_type": "markdown",
      "source": [
        "## 7.\tParse timestamp to readable date"
      ],
      "metadata": {
        "id": "6YcN_xyGiiyD"
      }
    },
    {
      "cell_type": "code",
      "source": [
        "from datetime import datetime\n",
        "\n",
        "def parse_datetime(row):\n",
        "  \"\"\"\n",
        "  Function to convert the string timestamp field to date-readable format\n",
        "\n",
        "  Args:: row: A single row of log fields\n",
        "  Returns:: (tuple): corrected (ip_address, remote_user_identity, remote_user,\n",
        "            timestamp, http_method, requested_url,\n",
        "            http_version, http_status_code, bytes_sent,\n",
        "            url, user_agent)\n",
        "  \"\"\"\n",
        "  new_row = []\n",
        "  for i in range(len(row)):\n",
        "    if i == 3:\n",
        "      new_row.append(datetime.strptime(row[i], \"%d/%b/%Y:%H:%M:%S %z\").strftime(\"%Y-%m-%d %H:%M:%S\"))\n",
        "    else:\n",
        "      new_row.append(row[i])\n",
        "  return(tuple(new_row))\n",
        "\n",
        "# datetime conversion\n",
        "parsed_rdd = filled_rdd.map(lambda row: parse_datetime(row))"
      ],
      "metadata": {
        "id": "MjGhAmTcit_x"
      },
      "execution_count": null,
      "outputs": []
    },
    {
      "cell_type": "code",
      "source": [
        "#### Before datetime conversion\n",
        "for line in filled_rdd.take(5):\n",
        "    print(line)"
      ],
      "metadata": {
        "colab": {
          "base_uri": "https://localhost:8080/"
        },
        "id": "BnSg9NOnjtwH",
        "outputId": "b3452557-7674-4f00-de55-480bde7af9cb"
      },
      "execution_count": null,
      "outputs": [
        {
          "output_type": "stream",
          "name": "stdout",
          "text": [
            "('109.169.248.247', 0, 0, '12/Dec/2015:18:25:11 +0100', 'GET', '/administrator/', '1.1', '200', '4263', 'Unknown', 'Mozilla/5.0(WindowsNT6.0;rv:34.0)Gecko/20100101Firefox/34.0')\n",
            "('109.169.248.247', 0, 0, '12/Dec/2015:18:25:11 +0100', 'POST', '/administrator/index.php', '1.1', '200', '4494', 'http://almhuette-raith.at/administrator/', 'Mozilla/5.0(WindowsNT6.0;rv:34.0)Gecko/20100101Firefox/34.0')\n",
            "('46.72.177.4', 0, 0, '12/Dec/2015:18:31:08 +0100', 'GET', '/administrator/', '1.1', '200', '4263', 'Unknown', 'Mozilla/5.0(WindowsNT6.0;rv:34.0)Gecko/20100101Firefox/34.0')\n",
            "('46.72.177.4', 0, 0, '12/Dec/2015:18:31:08 +0100', 'POST', '/administrator/index.php', '1.1', '200', '4494', 'http://almhuette-raith.at/administrator/', 'Mozilla/5.0(WindowsNT6.0;rv:34.0)Gecko/20100101Firefox/34.0')\n",
            "('83.167.113.100', 0, 0, '12/Dec/2015:18:31:25 +0100', 'GET', '/administrator/', '1.1', '200', '4263', 'Unknown', 'Mozilla/5.0(WindowsNT6.0;rv:34.0)Gecko/20100101Firefox/34.0')\n"
          ]
        }
      ]
    },
    {
      "cell_type": "code",
      "source": [
        "#### After datetime conversion\n",
        "for line in parsed_rdd.take(5):\n",
        "    print(line)"
      ],
      "metadata": {
        "colab": {
          "base_uri": "https://localhost:8080/"
        },
        "id": "BbTvv_lIjczH",
        "outputId": "788613cb-acdd-4aab-dce6-3a81a95bfe13"
      },
      "execution_count": null,
      "outputs": [
        {
          "output_type": "stream",
          "name": "stdout",
          "text": [
            "('109.169.248.247', 0, 0, '2015-12-12 18:25:11', 'GET', '/administrator/', '1.1', '200', '4263', 'Unknown', 'Mozilla/5.0(WindowsNT6.0;rv:34.0)Gecko/20100101Firefox/34.0')\n",
            "('109.169.248.247', 0, 0, '2015-12-12 18:25:11', 'POST', '/administrator/index.php', '1.1', '200', '4494', 'http://almhuette-raith.at/administrator/', 'Mozilla/5.0(WindowsNT6.0;rv:34.0)Gecko/20100101Firefox/34.0')\n",
            "('46.72.177.4', 0, 0, '2015-12-12 18:31:08', 'GET', '/administrator/', '1.1', '200', '4263', 'Unknown', 'Mozilla/5.0(WindowsNT6.0;rv:34.0)Gecko/20100101Firefox/34.0')\n",
            "('46.72.177.4', 0, 0, '2015-12-12 18:31:08', 'POST', '/administrator/index.php', '1.1', '200', '4494', 'http://almhuette-raith.at/administrator/', 'Mozilla/5.0(WindowsNT6.0;rv:34.0)Gecko/20100101Firefox/34.0')\n",
            "('83.167.113.100', 0, 0, '2015-12-12 18:31:25', 'GET', '/administrator/', '1.1', '200', '4263', 'Unknown', 'Mozilla/5.0(WindowsNT6.0;rv:34.0)Gecko/20100101Firefox/34.0')\n"
          ]
        }
      ]
    },
    {
      "cell_type": "markdown",
      "source": [
        "## 8.\tDescribe which HTTP status values appear in data and how many"
      ],
      "metadata": {
        "id": "GqCg4F-Xj2hC"
      }
    },
    {
      "cell_type": "markdown",
      "source": [
        "The HTTP status values that appear in the data are as follows and their frequencies are given in the cell output below.\n",
        "\n",
        "\n",
        "* **200**: OK; Standard response for successful HTTP requests.\n",
        "* **206**: Partial Content; The server is delivering only part of the resource (byte serving) due to a range header sent by the client.\n",
        "* **301**: Moved Permanently; This and all future requests should be directed to the given URI.\n",
        "* **303**: See Other; The response to the request can be found under another URI using the GET method. When received in response to a POST (or PUT/DELETE), the client should presume that the server has received the data and should issue a new GET request to the given URI.\n",
        "* **304**: Not Modified; Indicates that the resource has not been modified since the version specified by the request headers If-Modified-Since or If-None-Match.\n",
        "* **400**: Bad Request; The server cannot or will not process the request due to an apparent client error.\n",
        "* **401**: Unauthorized; Similar to 403 Forbidden, but specifically for use when authentication is required and has failed or has not yet been provided.\n",
        "* **403**: Forbidden; The request contained valid data and was understood by the server, but the server is refusing action.\n",
        "* **404**: Not Found; The requested resource could not be found but may be available in the future.\n",
        "* **405**: Method Not Allowed; A request method is not supported for the requested resource.\n",
        "* **406**: Not Acceptable; The requested resource is capable of generating only content not acceptable according to the Accept headers sent in the request.\n",
        "* **412**: Precondition Failed; The server does not meet one of the preconditions that the requester put on the request header fields.\n",
        "* **500**: Internal Server Error; A generic error message, given when an unexpected condition was encountered and no more specific message is suitable.\n",
        "* **501**: Not Implemented; The server either does not recognize the request method, or it lacks the ability to fulfil the request.\n",
        "\n",
        "\n",
        "*Reference:* https://en.wikipedia.org/wiki/List_of_HTTP_status_codes\n",
        "\n"
      ],
      "metadata": {
        "id": "vTtMHAmH0kjE"
      }
    },
    {
      "cell_type": "code",
      "source": [
        "# extracting the HTTP status values\n",
        "http_status_rdd = parsed_rdd.map(lambda x: x[7])\n",
        "\n",
        "# getting the frequency of each HTTP status\n",
        "http_status_freq = http_status_rdd.countByValue()\n",
        "\n",
        "# printing the frequency of each HTTP status\n",
        "for http_status, freq in http_status_freq.items():\n",
        "    print(f\"{http_status}: {freq}\")"
      ],
      "metadata": {
        "colab": {
          "base_uri": "https://localhost:8080/"
        },
        "id": "PpFtamG8j4Ds",
        "outputId": "38af630f-7cc3-4fff-c19e-b445e42dff78"
      },
      "execution_count": null,
      "outputs": [
        {
          "output_type": "stream",
          "name": "stdout",
          "text": [
            "200: 1157832\n",
            "404: 227101\n",
            "500: 3252\n",
            "405: 83\n",
            "301: 619\n",
            "304: 6330\n",
            "501: 143\n",
            "206: 939929\n",
            "403: 2222\n",
            "303: 247\n",
            "412: 19\n",
            "400: 23\n",
            "401: 153\n",
            "406: 53\n"
          ]
        }
      ]
    },
    {
      "cell_type": "code",
      "source": [
        "# extracting the HTTP status values\n",
        "http_status_rdd = parsed_rdd.map(lambda x: x[7])\n",
        "\n",
        "# counting the frequency of each unique status in the RDD\n",
        "frequency_rdd = http_status_rdd.map(lambda x: (x, 1)).reduceByKey(lambda a, b: a + b)\n",
        "\n",
        "# saving the frequency to a CSV file\n",
        "frequency_rdd.map(lambda x: \",\".join(map(str, x))) \\\n",
        "             .coalesce(1) \\\n",
        "             .saveAsTextFile('part1_q8_stats.csv')\n",
        "\n",
        "# printing the frequencies\n",
        "for line in frequency_rdd.take(frequency_rdd.count()):\n",
        "    print(line)"
      ],
      "metadata": {
        "colab": {
          "base_uri": "https://localhost:8080/"
        },
        "id": "Yv_qiI5SpMHx",
        "outputId": "a61d50b3-5c3f-4a0a-b256-bcf7fc5ed400"
      },
      "execution_count": null,
      "outputs": [
        {
          "output_type": "stream",
          "name": "stdout",
          "text": [
            "('501', 143)\n",
            "('206', 939929)\n",
            "('303', 247)\n",
            "('400', 23)\n",
            "('200', 1157832)\n",
            "('401', 153)\n",
            "('301', 619)\n",
            "('500', 3252)\n",
            "('403', 2222)\n",
            "('412', 19)\n",
            "('406', 53)\n",
            "('405', 83)\n",
            "('304', 6330)\n",
            "('404', 227101)\n"
          ]
        }
      ]
    },
    {
      "cell_type": "markdown",
      "source": [
        "## 9.\tHow many unique hosts are there in the entire log and their average request"
      ],
      "metadata": {
        "id": "sMOg5WTynEjQ"
      }
    },
    {
      "cell_type": "code",
      "source": [
        "# extracting hosts (IP Addresses) from the RDD\n",
        "hosts_rdd = parsed_rdd.map(lambda row: row[0])\n",
        "\n",
        "# counting the number of unique hosts\n",
        "unique_hosts_count = hosts_rdd.distinct().count()\n",
        "\n",
        "# counting the total number of requests\n",
        "total_requests_count = hosts_rdd.count()\n",
        "\n",
        "# calculating the average requests per host\n",
        "average_requests_per_host = total_requests_count / unique_hosts_count\n",
        "\n",
        "# printing the results\n",
        "print(\"Number of unique hosts:\", unique_hosts_count)\n",
        "print(\"Total number of requests:\", total_requests_count)\n",
        "print(\"Average requests per host:\", average_requests_per_host)"
      ],
      "metadata": {
        "id": "SEPirFT1ndTF",
        "colab": {
          "base_uri": "https://localhost:8080/"
        },
        "outputId": "f23fa85b-5d46-46f6-b718-93bb0a4e171a"
      },
      "execution_count": null,
      "outputs": [
        {
          "output_type": "stream",
          "name": "stdout",
          "text": [
            "Number of unique hosts: 40836\n",
            "Total number of requests: 2338006\n",
            "Average requests per host: 57.25355078851993\n"
          ]
        }
      ]
    },
    {
      "cell_type": "markdown",
      "source": [
        "# Part - 2: Using Data Frames"
      ],
      "metadata": {
        "id": "zUbLvK3TTo1n"
      }
    },
    {
      "cell_type": "markdown",
      "source": [
        "## 1. Load data into Spark Data Frame\n",
        "\n",
        "\n"
      ],
      "metadata": {
        "id": "jZUxwIaUcX5b"
      }
    },
    {
      "cell_type": "code",
      "source": [
        "# reading the log file into a dataframe\n",
        "log_df = spark.read.text('access.log')\n",
        "\n",
        "# displaying a sample of the data\n",
        "log_df.show(10, truncate=False)"
      ],
      "metadata": {
        "id": "yhTAtu_IbsZW",
        "colab": {
          "base_uri": "https://localhost:8080/"
        },
        "outputId": "dbcc7452-119f-47ba-eeeb-6a818a8acf85"
      },
      "execution_count": null,
      "outputs": [
        {
          "output_type": "stream",
          "name": "stdout",
          "text": [
            "+-------------------------------------------------------------------------------------------------------------------------------------------------------------------------------------------------------------+\n",
            "|value                                                                                                                                                                                                        |\n",
            "+-------------------------------------------------------------------------------------------------------------------------------------------------------------------------------------------------------------+\n",
            "|                                                                                                                                                                                                             |\n",
            "|109.169.248.247 - - [12/Dec/2015:18:25:11 +0100] GET /administrator/ HTTP/1.1 200 4263 - Mozilla/5.0 (Windows NT 6.0; rv:34.0) Gecko/20100101 Firefox/34.0 -                                                 |\n",
            "|109.169.248.247 - - [12/Dec/2015:18:25:11 +0100] POST /administrator/index.php HTTP/1.1 200 4494 http://almhuette-raith.at/administrator/ Mozilla/5.0 (Windows NT 6.0; rv:34.0) Gecko/20100101 Firefox/34.0 -|\n",
            "|46.72.177.4 - - [12/Dec/2015:18:31:08 +0100] GET /administrator/ HTTP/1.1 200 4263 - Mozilla/5.0 (Windows NT 6.0; rv:34.0) Gecko/20100101 Firefox/34.0 -                                                     |\n",
            "|46.72.177.4 - - [12/Dec/2015:18:31:08 +0100] POST /administrator/index.php HTTP/1.1 200 4494 http://almhuette-raith.at/administrator/ Mozilla/5.0 (Windows NT 6.0; rv:34.0) Gecko/20100101 Firefox/34.0 -    |\n",
            "|83.167.113.100 - - [12/Dec/2015:18:31:25 +0100] GET /administrator/ HTTP/1.1 200 4263 - Mozilla/5.0 (Windows NT 6.0; rv:34.0) Gecko/20100101 Firefox/34.0 -                                                  |\n",
            "|83.167.113.100 - - [12/Dec/2015:18:31:25 +0100] POST /administrator/index.php HTTP/1.1 200 4494 http://almhuette-raith.at/administrator/ Mozilla/5.0 (Windows NT 6.0; rv:34.0) Gecko/20100101 Firefox/34.0 - |\n",
            "|95.29.198.15 - - [12/Dec/2015:18:32:10 +0100] GET /administrator/ HTTP/1.1 200 4263 - Mozilla/5.0 (Windows NT 6.0; rv:34.0) Gecko/20100101 Firefox/34.0 -                                                    |\n",
            "|95.29.198.15 - - [12/Dec/2015:18:32:11 +0100] POST /administrator/index.php HTTP/1.1 200 4494 http://almhuette-raith.at/administrator/ Mozilla/5.0 (Windows NT 6.0; rv:34.0) Gecko/20100101 Firefox/34.0 -   |\n",
            "|109.184.11.34 - - [12/Dec/2015:18:32:56 +0100] GET /administrator/ HTTP/1.1 200 4263 - Mozilla/5.0 (Windows NT 6.0; rv:34.0) Gecko/20100101 Firefox/34.0 -                                                   |\n",
            "+-------------------------------------------------------------------------------------------------------------------------------------------------------------------------------------------------------------+\n",
            "only showing top 10 rows\n",
            "\n"
          ]
        }
      ]
    },
    {
      "cell_type": "code",
      "source": [
        "# printing the schema of the data\n",
        "log_df.printSchema()"
      ],
      "metadata": {
        "id": "iqnRN3EmcQz6",
        "colab": {
          "base_uri": "https://localhost:8080/"
        },
        "outputId": "9d8d08a5-f454-42af-8de0-e1d517964f78"
      },
      "execution_count": null,
      "outputs": [
        {
          "output_type": "stream",
          "name": "stdout",
          "text": [
            "root\n",
            " |-- value: string (nullable = true)\n",
            "\n"
          ]
        }
      ]
    },
    {
      "cell_type": "code",
      "source": [
        "# parsing information from each log lines\n",
        "# and storing them as separate columns\n",
        "\n",
        "\n",
        "df = log_df.withColumn(\"ip_address\", split(log_df[\"value\"], \" \").getItem(0)) \\\n",
        "           .withColumn(\"remote_user_identity\", split(log_df[\"value\"], \" \").getItem(1)) \\\n",
        "           .withColumn(\"remote_user\", split(log_df[\"value\"], \" \").getItem(2)) \\\n",
        "           .withColumn(\"timestamp\", concat_ws(\" \",\n",
        "                                              split(log_df[\"value\"], \" \").getItem(3),\n",
        "                                              split(log_df[\"value\"], \" \").getItem(4))) \\\n",
        "           .withColumn(\"timestamp\", substring(col('timestamp'), 2, 26)) \\\n",
        "           .withColumn(\"http_method_\", upper(substring(split(log_df[\"value\"], \" \").getItem(5), -8, 8))) \\\n",
        "           .withColumn(\"http_method\", when(substring(col('http_method_'), -4, 4)=='POST', lit('POST'))\n",
        "                                     .when(substring(col('http_method_'), -3, 3)=='GET', lit('GET'))\n",
        "                                     .otherwise(col('http_method_'))) \\\n",
        "           .withColumn('requested_url', split(log_df[\"value\"], \" \").getItem(6)) \\\n",
        "           .withColumn('info', split(log_df[\"value\"], \" HTTP/\").getItem(1)) \\\n",
        "           .withColumn('http_version', substring(col('info'), 1, 3)) \\\n",
        "           .withColumn(\"http_status_code\", split(col('info'), ' ').getItem(1)) \\\n",
        "           .withColumn('bytes_sent', split(col('info'), ' ').getItem(2)) \\\n",
        "           .withColumn(\"URL\", split(split(log_df[\"value\"], \" HTTP/\").getItem(1), \" \").getItem(3)) \\\n",
        "           .withColumn('user_agent', concat_ws(\" \",\n",
        "                                               split(log_df[\"value\"], \" \").getItem(11),\n",
        "                                               split(log_df[\"value\"], \" \").getItem(12),\n",
        "                                               split(log_df[\"value\"], \" \").getItem(13),\n",
        "                                               split(log_df[\"value\"], \" \").getItem(14),\n",
        "                                               split(log_df[\"value\"], \" \").getItem(15),\n",
        "                                               split(log_df[\"value\"], \" \").getItem(16),\n",
        "                                               split(log_df[\"value\"], \" \").getItem(17))) \\\n",
        "           .drop('http_method_', 'info')\n",
        "\n",
        "df.show(truncate=False)"
      ],
      "metadata": {
        "id": "0rWZt1-ReVbn",
        "colab": {
          "base_uri": "https://localhost:8080/"
        },
        "outputId": "f67487dc-b183-4771-c6d9-cc2c94b82bfd"
      },
      "execution_count": null,
      "outputs": [
        {
          "output_type": "stream",
          "name": "stdout",
          "text": [
            "+-------------------------------------------------------------------------------------------------------------------------------------------------------------------------------------------------------------+---------------+--------------------+-----------+--------------------------+-----------+------------------------+------------+----------------+----------+----------------------------------------+-----------------------------------------------------------------+\n",
            "|value                                                                                                                                                                                                        |ip_address     |remote_user_identity|remote_user|timestamp                 |http_method|requested_url           |http_version|http_status_code|bytes_sent|URL                                     |user_agent                                                       |\n",
            "+-------------------------------------------------------------------------------------------------------------------------------------------------------------------------------------------------------------+---------------+--------------------+-----------+--------------------------+-----------+------------------------+------------+----------------+----------+----------------------------------------+-----------------------------------------------------------------+\n",
            "|                                                                                                                                                                                                             |               |NULL                |NULL       |                          |NULL       |NULL                    |NULL        |NULL            |NULL      |NULL                                    |                                                                 |\n",
            "|109.169.248.247 - - [12/Dec/2015:18:25:11 +0100] GET /administrator/ HTTP/1.1 200 4263 - Mozilla/5.0 (Windows NT 6.0; rv:34.0) Gecko/20100101 Firefox/34.0 -                                                 |109.169.248.247|-                   |-          |12/Dec/2015:18:25:11 +0100|GET        |/administrator/         |1.1         |200             |4263      |-                                       |Mozilla/5.0 (Windows NT 6.0; rv:34.0) Gecko/20100101 Firefox/34.0|\n",
            "|109.169.248.247 - - [12/Dec/2015:18:25:11 +0100] POST /administrator/index.php HTTP/1.1 200 4494 http://almhuette-raith.at/administrator/ Mozilla/5.0 (Windows NT 6.0; rv:34.0) Gecko/20100101 Firefox/34.0 -|109.169.248.247|-                   |-          |12/Dec/2015:18:25:11 +0100|POST       |/administrator/index.php|1.1         |200             |4494      |http://almhuette-raith.at/administrator/|Mozilla/5.0 (Windows NT 6.0; rv:34.0) Gecko/20100101 Firefox/34.0|\n",
            "|46.72.177.4 - - [12/Dec/2015:18:31:08 +0100] GET /administrator/ HTTP/1.1 200 4263 - Mozilla/5.0 (Windows NT 6.0; rv:34.0) Gecko/20100101 Firefox/34.0 -                                                     |46.72.177.4    |-                   |-          |12/Dec/2015:18:31:08 +0100|GET        |/administrator/         |1.1         |200             |4263      |-                                       |Mozilla/5.0 (Windows NT 6.0; rv:34.0) Gecko/20100101 Firefox/34.0|\n",
            "|46.72.177.4 - - [12/Dec/2015:18:31:08 +0100] POST /administrator/index.php HTTP/1.1 200 4494 http://almhuette-raith.at/administrator/ Mozilla/5.0 (Windows NT 6.0; rv:34.0) Gecko/20100101 Firefox/34.0 -    |46.72.177.4    |-                   |-          |12/Dec/2015:18:31:08 +0100|POST       |/administrator/index.php|1.1         |200             |4494      |http://almhuette-raith.at/administrator/|Mozilla/5.0 (Windows NT 6.0; rv:34.0) Gecko/20100101 Firefox/34.0|\n",
            "|83.167.113.100 - - [12/Dec/2015:18:31:25 +0100] GET /administrator/ HTTP/1.1 200 4263 - Mozilla/5.0 (Windows NT 6.0; rv:34.0) Gecko/20100101 Firefox/34.0 -                                                  |83.167.113.100 |-                   |-          |12/Dec/2015:18:31:25 +0100|GET        |/administrator/         |1.1         |200             |4263      |-                                       |Mozilla/5.0 (Windows NT 6.0; rv:34.0) Gecko/20100101 Firefox/34.0|\n",
            "|83.167.113.100 - - [12/Dec/2015:18:31:25 +0100] POST /administrator/index.php HTTP/1.1 200 4494 http://almhuette-raith.at/administrator/ Mozilla/5.0 (Windows NT 6.0; rv:34.0) Gecko/20100101 Firefox/34.0 - |83.167.113.100 |-                   |-          |12/Dec/2015:18:31:25 +0100|POST       |/administrator/index.php|1.1         |200             |4494      |http://almhuette-raith.at/administrator/|Mozilla/5.0 (Windows NT 6.0; rv:34.0) Gecko/20100101 Firefox/34.0|\n",
            "|95.29.198.15 - - [12/Dec/2015:18:32:10 +0100] GET /administrator/ HTTP/1.1 200 4263 - Mozilla/5.0 (Windows NT 6.0; rv:34.0) Gecko/20100101 Firefox/34.0 -                                                    |95.29.198.15   |-                   |-          |12/Dec/2015:18:32:10 +0100|GET        |/administrator/         |1.1         |200             |4263      |-                                       |Mozilla/5.0 (Windows NT 6.0; rv:34.0) Gecko/20100101 Firefox/34.0|\n",
            "|95.29.198.15 - - [12/Dec/2015:18:32:11 +0100] POST /administrator/index.php HTTP/1.1 200 4494 http://almhuette-raith.at/administrator/ Mozilla/5.0 (Windows NT 6.0; rv:34.0) Gecko/20100101 Firefox/34.0 -   |95.29.198.15   |-                   |-          |12/Dec/2015:18:32:11 +0100|POST       |/administrator/index.php|1.1         |200             |4494      |http://almhuette-raith.at/administrator/|Mozilla/5.0 (Windows NT 6.0; rv:34.0) Gecko/20100101 Firefox/34.0|\n",
            "|109.184.11.34 - - [12/Dec/2015:18:32:56 +0100] GET /administrator/ HTTP/1.1 200 4263 - Mozilla/5.0 (Windows NT 6.0; rv:34.0) Gecko/20100101 Firefox/34.0 -                                                   |109.184.11.34  |-                   |-          |12/Dec/2015:18:32:56 +0100|GET        |/administrator/         |1.1         |200             |4263      |-                                       |Mozilla/5.0 (Windows NT 6.0; rv:34.0) Gecko/20100101 Firefox/34.0|\n",
            "|109.184.11.34 - - [12/Dec/2015:18:32:56 +0100] POST /administrator/index.php HTTP/1.1 200 4494 http://almhuette-raith.at/administrator/ Mozilla/5.0 (Windows NT 6.0; rv:34.0) Gecko/20100101 Firefox/34.0 -  |109.184.11.34  |-                   |-          |12/Dec/2015:18:32:56 +0100|POST       |/administrator/index.php|1.1         |200             |4494      |http://almhuette-raith.at/administrator/|Mozilla/5.0 (Windows NT 6.0; rv:34.0) Gecko/20100101 Firefox/34.0|\n",
            "|91.227.29.79 - - [12/Dec/2015:18:33:51 +0100] GET /administrator/ HTTP/1.1 200 4263 - Mozilla/5.0 (Windows NT 6.0; rv:34.0) Gecko/20100101 Firefox/34.0 -                                                    |91.227.29.79   |-                   |-          |12/Dec/2015:18:33:51 +0100|GET        |/administrator/         |1.1         |200             |4263      |-                                       |Mozilla/5.0 (Windows NT 6.0; rv:34.0) Gecko/20100101 Firefox/34.0|\n",
            "|91.227.29.79 - - [12/Dec/2015:18:33:52 +0100] POST /administrator/index.php HTTP/1.1 200 4494 http://almhuette-raith.at/administrator/ Mozilla/5.0 (Windows NT 6.0; rv:34.0) Gecko/20100101 Firefox/34.0 -   |91.227.29.79   |-                   |-          |12/Dec/2015:18:33:52 +0100|POST       |/administrator/index.php|1.1         |200             |4494      |http://almhuette-raith.at/administrator/|Mozilla/5.0 (Windows NT 6.0; rv:34.0) Gecko/20100101 Firefox/34.0|\n",
            "|90.154.66.233 - - [12/Dec/2015:18:36:16 +0100] GET /administrator/ HTTP/1.1 200 4263 - Mozilla/5.0 (Windows NT 6.0; rv:34.0) Gecko/20100101 Firefox/34.0 -                                                   |90.154.66.233  |-                   |-          |12/Dec/2015:18:36:16 +0100|GET        |/administrator/         |1.1         |200             |4263      |-                                       |Mozilla/5.0 (Windows NT 6.0; rv:34.0) Gecko/20100101 Firefox/34.0|\n",
            "|90.154.66.233 - - [12/Dec/2015:18:36:16 +0100] POST /administrator/index.php HTTP/1.1 200 4494 http://almhuette-raith.at/administrator/ Mozilla/5.0 (Windows NT 6.0; rv:34.0) Gecko/20100101 Firefox/34.0 -  |90.154.66.233  |-                   |-          |12/Dec/2015:18:36:16 +0100|POST       |/administrator/index.php|1.1         |200             |4494      |http://almhuette-raith.at/administrator/|Mozilla/5.0 (Windows NT 6.0; rv:34.0) Gecko/20100101 Firefox/34.0|\n",
            "|95.140.24.131 - - [12/Dec/2015:18:38:42 +0100] GET /administrator/ HTTP/1.1 200 4263 - Mozilla/5.0 (Windows NT 6.0; rv:34.0) Gecko/20100101 Firefox/34.0 -                                                   |95.140.24.131  |-                   |-          |12/Dec/2015:18:38:42 +0100|GET        |/administrator/         |1.1         |200             |4263      |-                                       |Mozilla/5.0 (Windows NT 6.0; rv:34.0) Gecko/20100101 Firefox/34.0|\n",
            "|95.140.24.131 - - [12/Dec/2015:18:38:42 +0100] POST /administrator/index.php HTTP/1.1 200 4494 http://almhuette-raith.at/administrator/ Mozilla/5.0 (Windows NT 6.0; rv:34.0) Gecko/20100101 Firefox/34.0 -  |95.140.24.131  |-                   |-          |12/Dec/2015:18:38:42 +0100|POST       |/administrator/index.php|1.1         |200             |4494      |http://almhuette-raith.at/administrator/|Mozilla/5.0 (Windows NT 6.0; rv:34.0) Gecko/20100101 Firefox/34.0|\n",
            "|95.188.245.16 - - [12/Dec/2015:18:38:55 +0100] GET /administrator/ HTTP/1.1 200 4263 - Mozilla/5.0 (Windows NT 6.0; rv:34.0) Gecko/20100101 Firefox/34.0 -                                                   |95.188.245.16  |-                   |-          |12/Dec/2015:18:38:55 +0100|GET        |/administrator/         |1.1         |200             |4263      |-                                       |Mozilla/5.0 (Windows NT 6.0; rv:34.0) Gecko/20100101 Firefox/34.0|\n",
            "|95.188.245.16 - - [12/Dec/2015:18:38:56 +0100] POST /administrator/index.php HTTP/1.1 200 4494 http://almhuette-raith.at/administrator/ Mozilla/5.0 (Windows NT 6.0; rv:34.0) Gecko/20100101 Firefox/34.0 -  |95.188.245.16  |-                   |-          |12/Dec/2015:18:38:56 +0100|POST       |/administrator/index.php|1.1         |200             |4494      |http://almhuette-raith.at/administrator/|Mozilla/5.0 (Windows NT 6.0; rv:34.0) Gecko/20100101 Firefox/34.0|\n",
            "|46.72.213.133 - - [12/Dec/2015:18:39:27 +0100] GET /administrator/ HTTP/1.1 200 4263 - Mozilla/5.0 (Windows NT 6.0; rv:34.0) Gecko/20100101 Firefox/34.0 -                                                   |46.72.213.133  |-                   |-          |12/Dec/2015:18:39:27 +0100|GET        |/administrator/         |1.1         |200             |4263      |-                                       |Mozilla/5.0 (Windows NT 6.0; rv:34.0) Gecko/20100101 Firefox/34.0|\n",
            "+-------------------------------------------------------------------------------------------------------------------------------------------------------------------------------------------------------------+---------------+--------------------+-----------+--------------------------+-----------+------------------------+------------+----------------+----------+----------------------------------------+-----------------------------------------------------------------+\n",
            "only showing top 20 rows\n",
            "\n"
          ]
        }
      ]
    },
    {
      "cell_type": "code",
      "source": [
        "df.groupBy('http_status_code').count().show()"
      ],
      "metadata": {
        "id": "3faiAUE7Lvg6",
        "colab": {
          "base_uri": "https://localhost:8080/"
        },
        "outputId": "12f887e3-02ac-4dad-b354-e4815a6f0e72"
      },
      "execution_count": null,
      "outputs": [
        {
          "output_type": "stream",
          "name": "stdout",
          "text": [
            "+----------------+-------+\n",
            "|http_status_code|  count|\n",
            "+----------------+-------+\n",
            "|             200|1157832|\n",
            "|            NULL|      1|\n",
            "|             206| 939929|\n",
            "|             501|    143|\n",
            "|             404| 227101|\n",
            "|             403|   2222|\n",
            "|             412|     19|\n",
            "|             303|    247|\n",
            "|             500|   3252|\n",
            "|             304|   6330|\n",
            "|             405|     83|\n",
            "|             400|     23|\n",
            "|             301|    619|\n",
            "|             406|     53|\n",
            "|             401|    153|\n",
            "+----------------+-------+\n",
            "\n"
          ]
        }
      ]
    },
    {
      "cell_type": "code",
      "source": [
        "df.count()"
      ],
      "metadata": {
        "id": "GyJKvie3xpDk",
        "colab": {
          "base_uri": "https://localhost:8080/"
        },
        "outputId": "1a247f0a-09d9-4ca9-9a46-37f6c1cda2db"
      },
      "execution_count": null,
      "outputs": [
        {
          "output_type": "execute_result",
          "data": {
            "text/plain": [
              "2338007"
            ]
          },
          "metadata": {},
          "execution_count": 25
        }
      ]
    },
    {
      "cell_type": "code",
      "source": [
        "# removing null rows\n",
        "df = df.filter(~((col('value').isNull())|(col('value')=='')))\n",
        "df.count()"
      ],
      "metadata": {
        "id": "qC3chIqrxh1B",
        "colab": {
          "base_uri": "https://localhost:8080/"
        },
        "outputId": "9fdc7aa3-aa90-483a-85ce-f1047ff9e3a3"
      },
      "execution_count": null,
      "outputs": [
        {
          "output_type": "execute_result",
          "data": {
            "text/plain": [
              "2338006"
            ]
          },
          "metadata": {},
          "execution_count": 26
        }
      ]
    },
    {
      "cell_type": "code",
      "source": [
        "df.groupBy(\"http_status_code\").count().show()"
      ],
      "metadata": {
        "id": "pClXFy0tqFFG",
        "colab": {
          "base_uri": "https://localhost:8080/"
        },
        "outputId": "bdb312db-0eab-4ce8-da7d-73d7a0e7841b"
      },
      "execution_count": null,
      "outputs": [
        {
          "output_type": "stream",
          "name": "stdout",
          "text": [
            "+----------------+-------+\n",
            "|http_status_code|  count|\n",
            "+----------------+-------+\n",
            "|             200|1157832|\n",
            "|             206| 939929|\n",
            "|             501|    143|\n",
            "|             404| 227101|\n",
            "|             403|   2222|\n",
            "|             412|     19|\n",
            "|             303|    247|\n",
            "|             500|   3252|\n",
            "|             304|   6330|\n",
            "|             405|     83|\n",
            "|             400|     23|\n",
            "|             301|    619|\n",
            "|             406|     53|\n",
            "|             401|    153|\n",
            "+----------------+-------+\n",
            "\n"
          ]
        }
      ]
    },
    {
      "cell_type": "markdown",
      "source": [
        "## 2. Find out how many 404 HTTP codes are in access logs"
      ],
      "metadata": {
        "id": "xguzmovcc4bl"
      }
    },
    {
      "cell_type": "code",
      "source": [
        "url404 = df.filter(col('http_status_code') == 404)\n",
        "url404.count()"
      ],
      "metadata": {
        "id": "u_0wate1nfsU",
        "colab": {
          "base_uri": "https://localhost:8080/"
        },
        "outputId": "03c978d9-fb9b-45fb-a2f0-051385ca65af"
      },
      "execution_count": null,
      "outputs": [
        {
          "output_type": "execute_result",
          "data": {
            "text/plain": [
              "227101"
            ]
          },
          "metadata": {},
          "execution_count": 28
        }
      ]
    },
    {
      "cell_type": "code",
      "source": [
        "url404.select('http_status_code', 'URL').show(truncate=False)"
      ],
      "metadata": {
        "id": "dYfCN34szPpE",
        "colab": {
          "base_uri": "https://localhost:8080/"
        },
        "outputId": "4d4eb9b1-adf0-41f5-e24f-cfafa4f9d693"
      },
      "execution_count": null,
      "outputs": [
        {
          "output_type": "stream",
          "name": "stdout",
          "text": [
            "+----------------+---------------------------------------------------------------------------------------+\n",
            "|http_status_code|URL                                                                                    |\n",
            "+----------------+---------------------------------------------------------------------------------------+\n",
            "|404             |http://almhuette-raith.at/                                                             |\n",
            "|404             |http://www.almhuette-raith.at/                                                         |\n",
            "|404             |-                                                                                      |\n",
            "|404             |-                                                                                      |\n",
            "|404             |http://www.almhuette-raith.at/                                                         |\n",
            "|404             |-                                                                                      |\n",
            "|404             |http://www.almhuette-raith.at/                                                         |\n",
            "|404             |-                                                                                      |\n",
            "|404             |http://www.almhuette-raith.at/                                                         |\n",
            "|404             |-                                                                                      |\n",
            "|404             |http://almhuette-raith.at/                                                             |\n",
            "|404             |http://almhuette-raith.at/                                                             |\n",
            "|404             |http://almhuette-raith.at/                                                             |\n",
            "|404             |http://www.almhuette-raith.at/                                                         |\n",
            "|404             |http://www.almhuette-raith.at/                                                         |\n",
            "|404             |-                                                                                      |\n",
            "|404             |-                                                                                      |\n",
            "|404             |http://www.almhuette-raith.at/index.php?option=com_content&view=article&id=49&Itemid=55|\n",
            "|404             |http://www.almhuette-raith.at/index.php?option=com_content&view=article&id=46&Itemid=54|\n",
            "|404             |http://www.almhuette-raith.at/                                                         |\n",
            "+----------------+---------------------------------------------------------------------------------------+\n",
            "only showing top 20 rows\n",
            "\n"
          ]
        }
      ]
    },
    {
      "cell_type": "markdown",
      "source": [
        "## 3.\tFind out which URLs are broke"
      ],
      "metadata": {
        "id": "1D_dUs6PwM3c"
      }
    },
    {
      "cell_type": "code",
      "source": [
        "broke_urls = df.filter(col(\"http_status_code\") != 200)\n",
        "broke_urls.count()"
      ],
      "metadata": {
        "id": "GRBKmu7EwU3o",
        "colab": {
          "base_uri": "https://localhost:8080/"
        },
        "outputId": "c54dcb9c-feea-4ec6-93e3-866856e38a38"
      },
      "execution_count": null,
      "outputs": [
        {
          "output_type": "execute_result",
          "data": {
            "text/plain": [
              "1180174"
            ]
          },
          "metadata": {},
          "execution_count": 30
        }
      ]
    },
    {
      "cell_type": "code",
      "source": [
        "broke_urls.select('http_status_code', 'URL').show(truncate=False)"
      ],
      "metadata": {
        "id": "Wwj2z_xJx7PM",
        "colab": {
          "base_uri": "https://localhost:8080/"
        },
        "outputId": "7b38ccca-9482-4b9f-9e20-5c505a1e637f"
      },
      "execution_count": null,
      "outputs": [
        {
          "output_type": "stream",
          "name": "stdout",
          "text": [
            "+----------------+---------------------------------------------------------------------------------------+\n",
            "|http_status_code|URL                                                                                    |\n",
            "+----------------+---------------------------------------------------------------------------------------+\n",
            "|404             |http://almhuette-raith.at/                                                             |\n",
            "|404             |http://www.almhuette-raith.at/                                                         |\n",
            "|404             |-                                                                                      |\n",
            "|404             |-                                                                                      |\n",
            "|500             |-                                                                                      |\n",
            "|500             |-                                                                                      |\n",
            "|404             |http://www.almhuette-raith.at/                                                         |\n",
            "|404             |-                                                                                      |\n",
            "|404             |http://www.almhuette-raith.at/                                                         |\n",
            "|404             |-                                                                                      |\n",
            "|404             |http://www.almhuette-raith.at/                                                         |\n",
            "|404             |-                                                                                      |\n",
            "|404             |http://almhuette-raith.at/                                                             |\n",
            "|404             |http://almhuette-raith.at/                                                             |\n",
            "|404             |http://almhuette-raith.at/                                                             |\n",
            "|404             |http://www.almhuette-raith.at/                                                         |\n",
            "|404             |http://www.almhuette-raith.at/                                                         |\n",
            "|404             |-                                                                                      |\n",
            "|404             |-                                                                                      |\n",
            "|404             |http://www.almhuette-raith.at/index.php?option=com_content&view=article&id=49&Itemid=55|\n",
            "+----------------+---------------------------------------------------------------------------------------+\n",
            "only showing top 20 rows\n",
            "\n"
          ]
        }
      ]
    },
    {
      "cell_type": "markdown",
      "source": [
        "## 4. Verify there are no null columns in the original dataset"
      ],
      "metadata": {
        "id": "NE7bLmBnzqA-"
      }
    },
    {
      "cell_type": "code",
      "source": [
        "for c in df.columns:\n",
        "  print(f\"\"\"{c}: {df.where((col(c).isNull()) |\n",
        "                           (col(c) == '-') |\n",
        "                           (col(c) == '')).count()}\"\"\")"
      ],
      "metadata": {
        "id": "NubgyqSDwU0J",
        "colab": {
          "base_uri": "https://localhost:8080/"
        },
        "outputId": "b177323c-afda-48f8-ba27-e39f44db814f"
      },
      "execution_count": null,
      "outputs": [
        {
          "output_type": "stream",
          "name": "stdout",
          "text": [
            "value: 0\n",
            "ip_address: 0\n",
            "remote_user_identity: 2338006\n",
            "remote_user: 2337872\n",
            "timestamp: 0\n",
            "http_method: 0\n",
            "requested_url: 0\n",
            "http_version: 0\n",
            "http_status_code: 0\n",
            "bytes_sent: 6341\n",
            "URL: 677884\n",
            "user_agent: 0\n"
          ]
        }
      ]
    },
    {
      "cell_type": "markdown",
      "source": [
        "## 5. Replace null values with constants such as 0"
      ],
      "metadata": {
        "id": "sPpzrDJOzsVb"
      }
    },
    {
      "cell_type": "code",
      "source": [
        "df = df.withColumn('remote_user_identity', when((col('remote_user_identity').isNull()) |\n",
        "                                                (col('remote_user_identity') == '-') |\n",
        "                                                (col('remote_user_identity') == ''), lit(0))\n",
        "                                          .otherwise(col('remote_user_identity'))) \\\n",
        "       .withColumn('remote_user', when((col('remote_user').isNull()) |\n",
        "                                       (col('remote_user') == '-') |\n",
        "                                       (col('remote_user') == ''), lit(0))\n",
        "                                 .otherwise(col('remote_user'))) \\\n",
        "       .withColumn('bytes_sent', when((col('bytes_sent').isNull()) |\n",
        "                                      (col('bytes_sent') == '-') |\n",
        "                                      (col('bytes_sent') == ''), lit(0))\n",
        "                                .otherwise(col('bytes_sent'))) \\\n",
        "       .withColumn('URL', when((col('URL').isNull()) |\n",
        "                               (col('URL') == '-') |\n",
        "                               (col('URL') == ''), lit('Unknown'))\n",
        "                         .otherwise(col('URL')))"
      ],
      "metadata": {
        "id": "3RtQWjYzwUta"
      },
      "execution_count": null,
      "outputs": []
    },
    {
      "cell_type": "code",
      "source": [
        "for c in df.columns:\n",
        "  print(f\"\"\"{c}: {df.where((col(c).isNull()) |\n",
        "                           (col(c) == '-') |\n",
        "                           (col(c) == '')).count()}\"\"\")"
      ],
      "metadata": {
        "id": "zjn-m0U8PlEV",
        "colab": {
          "base_uri": "https://localhost:8080/"
        },
        "outputId": "c8cfc415-2172-426b-df6b-0c59c74756d9"
      },
      "execution_count": null,
      "outputs": [
        {
          "output_type": "stream",
          "name": "stdout",
          "text": [
            "value: 0\n",
            "ip_address: 0\n",
            "remote_user_identity: 0\n",
            "remote_user: 0\n",
            "timestamp: 0\n",
            "http_method: 0\n",
            "requested_url: 0\n",
            "http_version: 0\n",
            "http_status_code: 0\n",
            "bytes_sent: 0\n",
            "URL: 0\n",
            "user_agent: 0\n"
          ]
        }
      ]
    },
    {
      "cell_type": "markdown",
      "source": [
        "## 6. Parse timestamp to readable date"
      ],
      "metadata": {
        "id": "KffgiX71zwgs"
      }
    },
    {
      "cell_type": "code",
      "source": [
        "df = df.withColumn(\"date\", to_timestamp(\"timestamp\", \"dd/MMM/yyyy:HH:mm:ss Z\"))\n",
        "df.select('timestamp', 'date').show(truncate=False)"
      ],
      "metadata": {
        "id": "ZRqggXmxwUp2",
        "colab": {
          "base_uri": "https://localhost:8080/"
        },
        "outputId": "d3802a21-58bf-45aa-dc43-a323215b4bae"
      },
      "execution_count": null,
      "outputs": [
        {
          "output_type": "stream",
          "name": "stdout",
          "text": [
            "+--------------------------+-------------------+\n",
            "|timestamp                 |date               |\n",
            "+--------------------------+-------------------+\n",
            "|12/Dec/2015:18:25:11 +0100|2015-12-12 17:25:11|\n",
            "|12/Dec/2015:18:25:11 +0100|2015-12-12 17:25:11|\n",
            "|12/Dec/2015:18:31:08 +0100|2015-12-12 17:31:08|\n",
            "|12/Dec/2015:18:31:08 +0100|2015-12-12 17:31:08|\n",
            "|12/Dec/2015:18:31:25 +0100|2015-12-12 17:31:25|\n",
            "|12/Dec/2015:18:31:25 +0100|2015-12-12 17:31:25|\n",
            "|12/Dec/2015:18:32:10 +0100|2015-12-12 17:32:10|\n",
            "|12/Dec/2015:18:32:11 +0100|2015-12-12 17:32:11|\n",
            "|12/Dec/2015:18:32:56 +0100|2015-12-12 17:32:56|\n",
            "|12/Dec/2015:18:32:56 +0100|2015-12-12 17:32:56|\n",
            "|12/Dec/2015:18:33:51 +0100|2015-12-12 17:33:51|\n",
            "|12/Dec/2015:18:33:52 +0100|2015-12-12 17:33:52|\n",
            "|12/Dec/2015:18:36:16 +0100|2015-12-12 17:36:16|\n",
            "|12/Dec/2015:18:36:16 +0100|2015-12-12 17:36:16|\n",
            "|12/Dec/2015:18:38:42 +0100|2015-12-12 17:38:42|\n",
            "|12/Dec/2015:18:38:42 +0100|2015-12-12 17:38:42|\n",
            "|12/Dec/2015:18:38:55 +0100|2015-12-12 17:38:55|\n",
            "|12/Dec/2015:18:38:56 +0100|2015-12-12 17:38:56|\n",
            "|12/Dec/2015:18:39:27 +0100|2015-12-12 17:39:27|\n",
            "|12/Dec/2015:18:39:27 +0100|2015-12-12 17:39:27|\n",
            "+--------------------------+-------------------+\n",
            "only showing top 20 rows\n",
            "\n"
          ]
        }
      ]
    },
    {
      "cell_type": "code",
      "source": [
        "df.select('timestamp', 'date').printSchema()"
      ],
      "metadata": {
        "id": "Z4IRpmnSz_m0",
        "colab": {
          "base_uri": "https://localhost:8080/"
        },
        "outputId": "a157bbb7-fc03-4dd7-b3b4-575bfb9b86be"
      },
      "execution_count": null,
      "outputs": [
        {
          "output_type": "stream",
          "name": "stdout",
          "text": [
            "root\n",
            " |-- timestamp: string (nullable = false)\n",
            " |-- date: timestamp (nullable = true)\n",
            "\n"
          ]
        }
      ]
    },
    {
      "cell_type": "markdown",
      "source": [
        "## 7. Describe which HTTP status values appear in data and how many"
      ],
      "metadata": {
        "id": "YmEcZ4Nv0P2w"
      }
    },
    {
      "cell_type": "code",
      "source": [
        "http_statuses = df.groupBy('http_status_code').count().orderBy(desc('count'))\n",
        "\n",
        "http_statuses.show(truncate=False)"
      ],
      "metadata": {
        "id": "mVOI-W4X0Rw6",
        "colab": {
          "base_uri": "https://localhost:8080/"
        },
        "outputId": "e270d60f-2ece-4cd7-f5c5-5f78af561574"
      },
      "execution_count": null,
      "outputs": [
        {
          "output_type": "stream",
          "name": "stdout",
          "text": [
            "+----------------+-------+\n",
            "|http_status_code|count  |\n",
            "+----------------+-------+\n",
            "|200             |1157832|\n",
            "|206             |939929 |\n",
            "|404             |227101 |\n",
            "|304             |6330   |\n",
            "|500             |3252   |\n",
            "|403             |2222   |\n",
            "|301             |619    |\n",
            "|303             |247    |\n",
            "|401             |153    |\n",
            "|501             |143    |\n",
            "|405             |83     |\n",
            "|406             |53     |\n",
            "|400             |23     |\n",
            "|412             |19     |\n",
            "+----------------+-------+\n",
            "\n"
          ]
        }
      ]
    },
    {
      "cell_type": "code",
      "source": [
        "http_statuses.coalesce(1) \\\n",
        "             .write.csv('part2_q8_stats.csv', header=True)"
      ],
      "metadata": {
        "id": "wsoGNz19rLRv"
      },
      "execution_count": null,
      "outputs": []
    },
    {
      "cell_type": "markdown",
      "source": [
        "## 8. How many unique hosts are there in the entire log and their average request"
      ],
      "metadata": {
        "id": "BP3GwA1QQqGN"
      }
    },
    {
      "cell_type": "code",
      "source": [
        "hosts = df.groupBy(['ip_address']).count()\n",
        "n_unique_hosts = hosts.count()\n",
        "print(n_unique_hosts)\n",
        "hosts.show()"
      ],
      "metadata": {
        "id": "964LSJns0RrT",
        "colab": {
          "base_uri": "https://localhost:8080/"
        },
        "outputId": "3d207526-4b0a-4b86-f3b0-2735db06f592"
      },
      "execution_count": null,
      "outputs": [
        {
          "output_type": "stream",
          "name": "stdout",
          "text": [
            "40836\n",
            "+--------------+-----+\n",
            "|    ip_address|count|\n",
            "+--------------+-----+\n",
            "|   46.72.177.4|    8|\n",
            "| 194.48.218.78|    2|\n",
            "| 31.181.253.16|    2|\n",
            "|  37.112.46.76|    2|\n",
            "| 95.107.90.225|    2|\n",
            "|  5.138.58.118|    2|\n",
            "|95.188.228.228|    2|\n",
            "|  66.7.119.112|    1|\n",
            "| 145.255.2.176|    4|\n",
            "| 176.59.208.95|    2|\n",
            "| 62.133.162.65|    4|\n",
            "| 95.29.129.235|    2|\n",
            "|  66.249.64.64|   41|\n",
            "| 207.46.13.165|    6|\n",
            "| 180.76.15.162|   75|\n",
            "|  37.139.52.40|   16|\n",
            "| 89.144.209.67|   26|\n",
            "|23.106.216.107|    3|\n",
            "|  195.20.125.6|   18|\n",
            "| 92.113.63.101|    6|\n",
            "+--------------+-----+\n",
            "only showing top 20 rows\n",
            "\n"
          ]
        }
      ]
    },
    {
      "cell_type": "code",
      "source": [
        "total_requests_count = df.count()\n",
        "average_requests_per_host = total_requests_count/n_unique_hosts\n",
        "\n",
        "# printing the results\n",
        "print(\"Number of unique hosts:\", n_unique_hosts)\n",
        "print(\"Total number of requests:\", total_requests_count)\n",
        "print(\"Average requests per host:\", average_requests_per_host)"
      ],
      "metadata": {
        "id": "DOXTxDB10RfT",
        "colab": {
          "base_uri": "https://localhost:8080/"
        },
        "outputId": "3c23fdbc-1e89-4f73-c455-c3bbb0b52d0e"
      },
      "execution_count": null,
      "outputs": [
        {
          "output_type": "stream",
          "name": "stdout",
          "text": [
            "Number of unique hosts: 40836\n",
            "Total number of requests: 2338006\n",
            "Average requests per host: 57.25355078851993\n"
          ]
        }
      ]
    },
    {
      "cell_type": "code",
      "source": [
        "# stopping the session\n",
        "spark.stop()"
      ],
      "metadata": {
        "id": "mw9QPpn-t7d6"
      },
      "execution_count": null,
      "outputs": []
    }
  ]
}